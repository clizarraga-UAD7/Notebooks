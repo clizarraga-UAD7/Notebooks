{
  "metadata": {
    "kernelspec": {
      "name": "python3",
      "display_name": "Python 3",
      "language": "python"
    },
    "language_info": {
      "name": "python",
      "version": "3.10.14",
      "mimetype": "text/x-python",
      "codemirror_mode": {
        "name": "ipython",
        "version": 3
      },
      "pygments_lexer": "ipython3",
      "nbconvert_exporter": "python",
      "file_extension": ".py"
    },
    "colab": {
      "toc_visible": true,
      "name": "Day 4 - Google Search grounding",
      "provenance": [],
      "include_colab_link": true
    },
    "kaggle": {
      "accelerator": "none",
      "dataSources": [],
      "dockerImageVersionId": 30786,
      "isInternetEnabled": true,
      "language": "python",
      "sourceType": "notebook",
      "isGpuEnabled": false
    }
  },
  "nbformat_minor": 0,
  "nbformat": 4,
  "cells": [
    {
      "cell_type": "markdown",
      "metadata": {
        "id": "view-in-github",
        "colab_type": "text"
      },
      "source": [
        "<a href=\"https://colab.research.google.com/github/clizarraga-UAD7/Notebooks/blob/main/Day_4_Google_Search_grounding.ipynb\" target=\"_parent\"><img src=\"https://colab.research.google.com/assets/colab-badge.svg\" alt=\"Open In Colab\"/></a>"
      ]
    },
    {
      "cell_type": "markdown",
      "source": [
        "##### Copyright 2024 Google LLC."
      ],
      "metadata": {
        "id": "kokPyXQaY3xI"
      }
    },
    {
      "cell_type": "code",
      "source": [
        "# @title Licensed under the Apache License, Version 2.0 (the \"License\");\n",
        "# you may not use this file except in compliance with the License.\n",
        "# You may obtain a copy of the License at\n",
        "#\n",
        "# https://www.apache.org/licenses/LICENSE-2.0\n",
        "#\n",
        "# Unless required by applicable law or agreed to in writing, software\n",
        "# distributed under the License is distributed on an \"AS IS\" BASIS,\n",
        "# WITHOUT WARRANTIES OR CONDITIONS OF ANY KIND, either express or implied.\n",
        "# See the License for the specific language governing permissions and\n",
        "# limitations under the License."
      ],
      "metadata": {
        "cellView": "form",
        "id": "StB_cTIkY1ZG",
        "jupyter": {
          "source_hidden": true
        },
        "trusted": true,
        "execution": {
          "iopub.status.busy": "2024-11-14T03:07:13.107488Z",
          "iopub.execute_input": "2024-11-14T03:07:13.107931Z",
          "iopub.status.idle": "2024-11-14T03:07:13.131652Z",
          "shell.execute_reply.started": "2024-11-14T03:07:13.107883Z",
          "shell.execute_reply": "2024-11-14T03:07:13.130149Z"
        }
      },
      "outputs": [],
      "execution_count": null
    },
    {
      "cell_type": "markdown",
      "source": [
        "# Day 4 - Google Search grounding with the Gemini API\n",
        "\n",
        "Welcome back to the Kaggle 5-day Generative AI course!\n",
        "\n",
        "In this notebook, you will use [Google Search](https://google.com/) results with the Gemini API in a technique called grounding, where the model is connected to verifiable sources of information. Using search grounding is similar to using the RAG system you implemented earlier in the week, but the Gemini API automates a lot of it for you. The model generates Google Search queries and invokes the searches automatically, retrieving relevant data from Google's index of the web and providing links to search suggestions that support the query, so your users can verify the sources.\n",
        "\n",
        "## Enable billing\n",
        "\n",
        "**Important!**\n",
        "\n",
        "Grounding with Google Search is only available through the API for **\"pay-as-you-go\"** accounts. However, you can try the feature for **no charge** in [Google AI Studio](https://aistudio.google.com/) to see how it works. Look out for the <img src=\"https://ai.google.dev/site-assets/images/marketing/home/icon-ais.png\" style=\"height: 24px\" height=24/> links in this guide that take you there.\n",
        "\n",
        "* Learn how to [enable billing](https://ai.google.dev/gemini-api/docs/billing#enable-cloud-billing)\n",
        "* Learn about Google Cloud's [$300 credit for new customers](https://cloud.google.com/free/docs/free-cloud-features) and [other no-cost options](https://cloud.google.com/free)\n",
        "* View the [pricing page](https://ai.google.dev/pricing)\n",
        "* Or try out grounding in [Google AI Studio](https://aistudio.google.com/) **without** billing enabled\n",
        "\n",
        "Continue on with this guide from the `API: Get set up` section if you have enabled billing for your API key, or continue to `Alternative: Use Google AI Studio` to try out the feature free of charge."
      ],
      "metadata": {
        "id": "q-mcOl0JY8Xg"
      }
    },
    {
      "cell_type": "markdown",
      "source": [
        "## Alternative: Use Google AI Studio\n",
        "\n",
        "If you wish to try out grounding with Google Search without enabling billing, you can use AI Studio. There are `Open in AI Studio` links in this codelab, or you can follow this short section to learn how to enable and use the feature for your own queries.\n",
        "\n",
        "### Open AI Studio\n",
        "\n",
        "Start by going to [AI Studio](https://aistudio.google.com/prompts/new_chat). You should be in the \"New chat\" interface.\n",
        "\n",
        "![New chat in AI Studio](https://storage.googleapis.com/generativeai-downloads/kaggle/ais-newchat.png)\n",
        "\n",
        "### Ask a question\n",
        "\n",
        "Now enter a prompt into the chat interface. Try asking something that is timely and might require recent information to answer, like a recent sport score. For this query, grounding will be **disabled** by default.\n",
        "\n",
        "This screenshow shows the response for `What were the top halloween costumes this year?`. Every execution will be different but typically the model talks about 2023, and hedges its responses saying it doesn't have access to specific information resulting in a general comment, rather than specific answers.\n",
        "\n",
        "![Sample question-answer pair without grounding](https://storage.googleapis.com/generativeai-downloads/kaggle/halloween-ungrounded.png)\n",
        "\n",
        "### Enable grounding\n",
        "\n",
        "On the right-hand sidebar, under the `Tools` section. Find and enable the `Grounding` option.\n",
        "\n",
        "![Enable grounding button](https://storage.googleapis.com/generativeai-downloads/kaggle/enable-grounding.png)\n",
        "\n",
        "Now re-run your question by hovering over the Use prompt in the chat history, and pressing the `Edit` button that appears in the upper corner.\n",
        "\n",
        "![Edit prompt button](https://storage.googleapis.com/generativeai-downloads/kaggle/edit-button.png)\n",
        "\n",
        "The `Edit` button will turn into the Gemini ✨ icon that you can press to re-run your prompt.\n",
        "\n",
        "![Re-run prompt button](https://storage.googleapis.com/generativeai-downloads/kaggle/re-run-button.png)\n",
        "\n",
        "You should now see a response generated that references sources from Google Search.\n",
        "\n",
        "![Response with grounded sources from Google!](https://storage.googleapis.com/generativeai-downloads/kaggle/halloween-grounded.png)\n",
        "\n",
        "### Try your own queries\n",
        "\n",
        "Explore this interface and try some other queries. Share what works well in the [Discord](https://discord.com/channels/1101210829807956100/1303438361117069363)! You can start from [this blank template](https://aistudio.google.com/app/prompts/1FZtxKLFZIJ1p_0rICu8K2CNIF1tkAnf4) that has search grounding enabled.\n",
        "\n",
        "The remaining steps require an API key with billing enabled. For an explanation of `Dynamic retrieval` you can see the `Dynamic grounding` section at the end of this notebook."
      ],
      "metadata": {
        "id": "D_ySckGM45r1"
      }
    },
    {
      "cell_type": "markdown",
      "source": [
        "## API: Get set up\n",
        "\n",
        "This section requires an API key with billing enabled. Start by installing and importing the Gemini API Python SDK."
      ],
      "metadata": {
        "id": "Qcyq976Gbwpo"
      }
    },
    {
      "cell_type": "code",
      "source": [
        "%pip install -q -U 'google-generativeai>=0.8.3'"
      ],
      "metadata": {
        "id": "1ZLC4ORSbqme",
        "trusted": true,
        "execution": {
          "iopub.status.busy": "2024-11-14T03:07:13.133759Z",
          "iopub.execute_input": "2024-11-14T03:07:13.134186Z",
          "iopub.status.idle": "2024-11-14T03:07:40.647753Z",
          "shell.execute_reply.started": "2024-11-14T03:07:13.134142Z",
          "shell.execute_reply": "2024-11-14T03:07:40.646494Z"
        }
      },
      "outputs": [],
      "execution_count": null
    },
    {
      "cell_type": "markdown",
      "source": [
        "You do not need to restart the kernel."
      ],
      "metadata": {
        "id": "EfTTzK7m45r2"
      }
    },
    {
      "cell_type": "code",
      "source": [
        "import google.generativeai as genai\n",
        "from IPython.display import Markdown, HTML, display"
      ],
      "metadata": {
        "id": "FNkHtOAmbt2B",
        "trusted": true,
        "execution": {
          "iopub.status.busy": "2024-11-14T03:07:40.649272Z",
          "iopub.execute_input": "2024-11-14T03:07:40.64964Z",
          "iopub.status.idle": "2024-11-14T03:07:41.874772Z",
          "shell.execute_reply.started": "2024-11-14T03:07:40.649603Z",
          "shell.execute_reply": "2024-11-14T03:07:41.873852Z"
        }
      },
      "outputs": [],
      "execution_count": null
    },
    {
      "cell_type": "markdown",
      "source": [
        "### Set up your API key\n",
        "\n",
        "To run the following cell, your API key must be stored it in a [Kaggle secret](https://www.kaggle.com/discussions/product-feedback/114053) named `GOOGLE_API_KEY`.\n",
        "\n",
        "If you don't already have an API key, you can grab one from [AI Studio](https://aistudio.google.com/app/apikey). You can find [detailed instructions in the docs](https://ai.google.dev/gemini-api/docs/api-key).\n",
        "\n",
        "To make the key available through Kaggle secrets, choose `Secrets` from the `Add-ons` menu and follow the instructions to add your key or enable it for this notebook."
      ],
      "metadata": {
        "id": "_NO9cdffb4KR"
      }
    },
    {
      "cell_type": "code",
      "source": [
        "from kaggle_secrets import UserSecretsClient\n",
        "\n",
        "GOOGLE_API_KEY = UserSecretsClient().get_secret(\"GOOGLE_API_KEY\")\n",
        "genai.configure(api_key=GOOGLE_API_KEY)"
      ],
      "metadata": {
        "id": "8NAmACYHb5DK",
        "trusted": true,
        "execution": {
          "iopub.status.busy": "2024-11-14T03:07:41.878984Z",
          "iopub.execute_input": "2024-11-14T03:07:41.879492Z",
          "iopub.status.idle": "2024-11-14T03:07:42.134463Z",
          "shell.execute_reply.started": "2024-11-14T03:07:41.879453Z",
          "shell.execute_reply": "2024-11-14T03:07:42.133487Z"
        }
      },
      "outputs": [],
      "execution_count": null
    },
    {
      "cell_type": "markdown",
      "source": [
        "If you received an error response along the lines of `No user secrets exist for kernel id ...`, then you need to add your API key via `Add-ons`, `Secrets` **and** enable it.\n",
        "\n",
        "![Screenshot of the checkbox to enable GOOGLE_API_KEY secret](https://storage.googleapis.com/kaggle-media/Images/5gdai_sc_3.png)"
      ],
      "metadata": {
        "id": "cfb5d41c4a03"
      }
    },
    {
      "cell_type": "markdown",
      "source": [
        "### Explore available models\n",
        "\n",
        "Search grounding is a tool available in the `-002` series of models. Find a model that supports it through the [`models.list`](https://ai.google.dev/api/models#method:-models.list) endpoint. You can also find more information about different model capabilities on [the models page](https://ai.google.dev/gemini-api/docs/models/gemini)."
      ],
      "metadata": {
        "id": "Rvre6fOrcHi2"
      }
    },
    {
      "cell_type": "code",
      "source": [
        "for model in genai.list_models():\n",
        "    if \"002\" in model.name:\n",
        "        print(model.name)"
      ],
      "metadata": {
        "id": "p6G2H6N4dT02",
        "trusted": true,
        "execution": {
          "iopub.status.busy": "2024-11-14T03:07:42.135655Z",
          "iopub.execute_input": "2024-11-14T03:07:42.135952Z",
          "iopub.status.idle": "2024-11-14T03:07:43.057291Z",
          "shell.execute_reply.started": "2024-11-14T03:07:42.135921Z",
          "shell.execute_reply": "2024-11-14T03:07:43.056174Z"
        }
      },
      "outputs": [],
      "execution_count": null
    },
    {
      "cell_type": "markdown",
      "source": [
        "## Use search grounding\n",
        "\n",
        "To enable search grounding, you specify it as a tool: `google_search_retrieval`. Like other tools, this can be supplied as a parameter to the model (to use on all chat turns or calls to `generate_content`), or it can be supplied per-turn to `chat.send_message`.\n",
        "\n",
        "\n",
        "<table align=left>\n",
        "  <td>\n",
        "    <a target=\"_blank\" href=\"https://aistudio.google.com/app/prompts/1GTkO-gH4vd6G7LpBJ6Ay7U1OaJer7yDD\"><img src=\"https://ai.google.dev/site-assets/images/marketing/home/icon-ais.png\" style=\"height: 24px\" height=24/> Open in AI Studio</a>\n",
        "  </td>\n",
        "</table>"
      ],
      "metadata": {
        "id": "HW5RVNUierrQ"
      }
    },
    {
      "cell_type": "code",
      "source": [
        "# Ask for information without search grounding.\n",
        "model = genai.GenerativeModel(\"gemini-1.5-flash-002\")\n",
        "\n",
        "response = model.generate_content(\"When and where is Taylor Swift's next concert?\")\n",
        "\n",
        "Markdown(response.text)"
      ],
      "metadata": {
        "id": "JZmdaOlVfCgd",
        "trusted": true,
        "execution": {
          "iopub.status.busy": "2024-11-14T03:07:43.058686Z",
          "iopub.execute_input": "2024-11-14T03:07:43.059052Z",
          "iopub.status.idle": "2024-11-14T03:07:45.165723Z",
          "shell.execute_reply.started": "2024-11-14T03:07:43.059005Z",
          "shell.execute_reply": "2024-11-14T03:07:45.164598Z"
        }
      },
      "outputs": [],
      "execution_count": null
    },
    {
      "cell_type": "markdown",
      "source": [
        "Now try with grounding enabled.\n",
        "\n",
        "<table align=left>\n",
        "  <td>\n",
        "    <a target=\"_blank\" href=\"https://aistudio.google.com/prompts/14lDR0VjSni6BEUCZUBqj5PzTn3J194Th\"><img src=\"https://ai.google.dev/site-assets/images/marketing/home/icon-ais.png\" style=\"height: 24px\" height=24/> Open in AI Studio</a>\n",
        "  </td>\n",
        "</table>"
      ],
      "metadata": {
        "id": "_4TN3khd45r4"
      }
    },
    {
      "cell_type": "code",
      "source": [
        "# And now re-run the same query with search grounding enabled.\n",
        "model = genai.GenerativeModel(\n",
        "    \"gemini-1.5-flash-002\",\n",
        "    tools=\"google_search_retrieval\")\n",
        "\n",
        "response = model.generate_content(\"When and where is Taylor Swift's next concert?\")\n",
        "rc = response.candidates[0]\n",
        "\n",
        "Markdown(rc.content.parts[0].text)"
      ],
      "metadata": {
        "id": "i7jqG3nww6kU",
        "trusted": true,
        "execution": {
          "iopub.status.busy": "2024-11-14T03:07:45.166917Z",
          "iopub.execute_input": "2024-11-14T03:07:45.167234Z",
          "iopub.status.idle": "2024-11-14T03:07:46.857468Z",
          "shell.execute_reply.started": "2024-11-14T03:07:45.167201Z",
          "shell.execute_reply": "2024-11-14T03:07:46.856279Z"
        }
      },
      "outputs": [],
      "execution_count": null
    },
    {
      "cell_type": "markdown",
      "source": [
        "If you receive a `429 Resource has been exhausted` error, you are likely using a free tier API key. You can choose to enable billing (but this will incur charges), or you can try the queries in Google AI Studio by following the `Open in AI Studio` links above."
      ],
      "metadata": {
        "id": "SJc_0FFBgoiJ"
      }
    },
    {
      "cell_type": "markdown",
      "source": [
        "### Response metadata\n",
        "\n",
        "When search grounding is used, the model returns extra metadata that includes links to search suggestions, supporting documents and information on how the supporting documents were used.\n",
        "\n",
        "Each \"grounding chunk\" represents information retrieved from Google Search that was used in the grounded generation request. Following the URI will take you to the source."
      ],
      "metadata": {
        "id": "8PTfT4Wd45r4"
      }
    },
    {
      "cell_type": "code",
      "source": [
        "chunks = rc.grounding_metadata.grounding_chunks\n",
        "for chunk in chunks:\n",
        "    print(chunk)"
      ],
      "metadata": {
        "id": "2P7IYMcvxtcy",
        "trusted": true,
        "execution": {
          "iopub.status.busy": "2024-11-14T03:14:18.227894Z",
          "iopub.execute_input": "2024-11-14T03:14:18.228318Z",
          "iopub.status.idle": "2024-11-14T03:14:18.234551Z",
          "shell.execute_reply.started": "2024-11-14T03:14:18.22828Z",
          "shell.execute_reply": "2024-11-14T03:14:18.23339Z"
        }
      },
      "outputs": [],
      "execution_count": null
    },
    {
      "cell_type": "markdown",
      "source": [
        "As part of the response, there is a standalone styled HTML content block that you use to link back to relevant search suggestions related to the generation."
      ],
      "metadata": {
        "id": "ziYb2Fkjzwwx"
      }
    },
    {
      "cell_type": "code",
      "source": [
        "HTML(rc.grounding_metadata.search_entry_point.rendered_content)"
      ],
      "metadata": {
        "id": "DQAgIGJmfxqC",
        "trusted": true
      },
      "outputs": [],
      "execution_count": null
    },
    {
      "cell_type": "markdown",
      "source": [
        "The `grounding_supports` in the metadata provide a way for you to correlate the grounding chunks used to the generated output text."
      ],
      "metadata": {
        "id": "pJpqJopp0H0M"
      }
    },
    {
      "cell_type": "code",
      "source": [
        "supports = rc.grounding_metadata.grounding_supports\n",
        "for support in supports:\n",
        "    print(support)"
      ],
      "metadata": {
        "id": "sHg9Yq9U0r89",
        "trusted": true,
        "execution": {
          "iopub.status.busy": "2024-11-14T03:14:32.277099Z",
          "iopub.execute_input": "2024-11-14T03:14:32.277505Z",
          "iopub.status.idle": "2024-11-14T03:14:32.283343Z",
          "shell.execute_reply.started": "2024-11-14T03:14:32.277465Z",
          "shell.execute_reply": "2024-11-14T03:14:32.28224Z"
        }
      },
      "outputs": [],
      "execution_count": null
    },
    {
      "cell_type": "markdown",
      "source": [
        "These supports can be used to highlight text in the response, or build tables of footnotes."
      ],
      "metadata": {
        "id": "wkQAGyi87FGn"
      }
    },
    {
      "cell_type": "code",
      "source": [
        "import io\n",
        "\n",
        "markdown_buffer = io.StringIO()\n",
        "\n",
        "# Print the text with footnote markers.\n",
        "markdown_buffer.write(\"Supported text:\\n\\n\")\n",
        "for support in supports:\n",
        "    markdown_buffer.write(\" * \")\n",
        "    markdown_buffer.write(\n",
        "        response.text[support.segment.start_index : support.segment.end_index]\n",
        "    )\n",
        "\n",
        "    for i in support.grounding_chunk_indices:\n",
        "        chunk = chunks[i].web\n",
        "        markdown_buffer.write(f\"<sup>[{i+1}]</sup>\")\n",
        "\n",
        "    markdown_buffer.write(\"\\n\\n\")\n",
        "\n",
        "\n",
        "# And print the footnotes.\n",
        "markdown_buffer.write(\"Citations:\\n\\n\")\n",
        "for i, chunk in enumerate(chunks, start=1):\n",
        "    markdown_buffer.write(f\"* {i}: [{chunk.web.title}]({chunk.web.uri})\\n\")\n",
        "\n",
        "\n",
        "Markdown(markdown_buffer.getvalue())"
      ],
      "metadata": {
        "id": "9_dEINt43C62",
        "trusted": true,
        "execution": {
          "iopub.status.busy": "2024-11-14T03:14:35.21884Z",
          "iopub.execute_input": "2024-11-14T03:14:35.219234Z",
          "iopub.status.idle": "2024-11-14T03:14:35.22931Z",
          "shell.execute_reply.started": "2024-11-14T03:14:35.219195Z",
          "shell.execute_reply": "2024-11-14T03:14:35.228309Z"
        }
      },
      "outputs": [],
      "execution_count": null
    },
    {
      "cell_type": "markdown",
      "source": [
        "### Dynamic grounding\n",
        "\n",
        "In a context where you may not know in advance whether to enable search grounding or not, you can provide the model with a threshold over which it will use search grounding. This is helpful in conversational contexts, where not every turn of conversation requires search data to support a response.\n",
        "\n",
        "If you know whether to enable Search for any given chat turn, you can provide the tool explicitly.\n",
        "\n",
        "\n",
        "<table align=left>\n",
        "  <td>\n",
        "    <a target=\"_blank\" href=\"https://aistudio.google.com/prompts/1VBx_R16kNWa8g7lpLxQPx_08sFtd7tcd\"><img src=\"https://ai.google.dev/site-assets/images/marketing/home/icon-ais.png\" style=\"height: 24px\" height=24/> Open in AI Studio</a>\n",
        "  </td>\n",
        "</table>"
      ],
      "metadata": {
        "id": "suX0M2By8LIN"
      }
    },
    {
      "cell_type": "code",
      "source": [
        "nosearch_model = genai.GenerativeModel(\"gemini-1.5-flash-002\")\n",
        "chat = nosearch_model.start_chat()\n",
        "\n",
        "# No search grounding.\n",
        "r = chat.send_message(\"Hello friendly chatbot!\")\n",
        "\n",
        "# Enable search for just this turn.\n",
        "r = chat.send_message(\n",
        "    \"Who took home the 2023 cricket world cup?\", tools=\"google_search_retrieval\"\n",
        ")\n",
        "\n",
        "Markdown(r.text)"
      ],
      "metadata": {
        "id": "6FLf92417p_4",
        "trusted": true,
        "execution": {
          "iopub.status.busy": "2024-11-14T03:14:40.532771Z",
          "iopub.execute_input": "2024-11-14T03:14:40.53326Z",
          "iopub.status.idle": "2024-11-14T03:14:42.795841Z",
          "shell.execute_reply.started": "2024-11-14T03:14:40.533214Z",
          "shell.execute_reply": "2024-11-14T03:14:42.794674Z"
        }
      },
      "outputs": [],
      "execution_count": null
    },
    {
      "cell_type": "code",
      "source": [
        "HTML(r.candidates[0].grounding_metadata.search_entry_point.rendered_content)"
      ],
      "metadata": {
        "trusted": true,
        "id": "K-uvgC8y45r6"
      },
      "outputs": [],
      "execution_count": null
    },
    {
      "cell_type": "markdown",
      "source": [
        "Or you can let the Gemini API calculate a likelihood that the response needs search backing, and define the threshold to use."
      ],
      "metadata": {
        "id": "6nSCaNfL9wSL"
      }
    },
    {
      "cell_type": "code",
      "source": [
        "# The dynamic retrieval score is a probability, so the threshold\n",
        "# must also be bound by [0, 1].\n",
        "search_config = {\n",
        "    \"dynamic_retrieval_config\": {\"mode\": \"MODE_DYNAMIC\", \"dynamic_threshold\": 0.5}\n",
        "}\n",
        "\n",
        "maybe_search_model = genai.GenerativeModel(\n",
        "    \"gemini-1.5-flash-002\", tools={\"google_search_retrieval\": search_config}\n",
        ")\n",
        "\n",
        "chat = maybe_search_model.start_chat()\n",
        "\n",
        "r = chat.send_message(\"Hello friendly chatbot!\")\n",
        "rc = r.candidates[0]\n",
        "score = rc.grounding_metadata.retrieval_metadata.google_search_dynamic_retrieval_score\n",
        "print(f\"First turn: {score=}\")\n",
        "\n",
        "r = chat.send_message(\"Who took home the 2023 cricket world cup?\")\n",
        "rc = r.candidates[0]\n",
        "score = rc.grounding_metadata.retrieval_metadata.google_search_dynamic_retrieval_score\n",
        "print(f\"Second turn: {score=}\")\n",
        "print()\n",
        "\n",
        "display(Markdown(r.text))"
      ],
      "metadata": {
        "id": "WdqdYOND98M4",
        "trusted": true,
        "execution": {
          "iopub.status.busy": "2024-11-14T03:16:28.248699Z",
          "iopub.execute_input": "2024-11-14T03:16:28.249083Z",
          "iopub.status.idle": "2024-11-14T03:16:30.218809Z",
          "shell.execute_reply.started": "2024-11-14T03:16:28.249047Z",
          "shell.execute_reply": "2024-11-14T03:16:30.217776Z"
        }
      },
      "outputs": [],
      "execution_count": null
    },
    {
      "cell_type": "code",
      "source": [
        "HTML(rc.grounding_metadata.search_entry_point.rendered_content)"
      ],
      "metadata": {
        "trusted": true,
        "id": "VXrnmvAN45r6"
      },
      "outputs": [],
      "execution_count": null
    },
    {
      "cell_type": "markdown",
      "source": [
        "## Further reading\n",
        "\n",
        "When using search grounding, there are some specific requirements that you must follow, including when and how to show search suggestions, and how to use the grounding links.  Be sure to read and follow the details in the [search grounding capability guide](https://ai.google.dev/gemini-api/docs/grounding) and the [search suggestions guide](https://ai.google.dev/gemini-api/docs/grounding/search-suggestions)."
      ],
      "metadata": {
        "id": "Cp7gvdM-zOf0"
      }
    }
  ]
}