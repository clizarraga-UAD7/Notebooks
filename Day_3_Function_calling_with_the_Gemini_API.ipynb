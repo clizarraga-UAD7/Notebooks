{
  "metadata": {
    "kernelspec": {
      "name": "python3",
      "display_name": "Python 3",
      "language": "python"
    },
    "language_info": {
      "name": "python",
      "version": "3.10.14",
      "mimetype": "text/x-python",
      "codemirror_mode": {
        "name": "ipython",
        "version": 3
      },
      "pygments_lexer": "ipython3",
      "nbconvert_exporter": "python",
      "file_extension": ".py"
    },
    "colab": {
      "toc_visible": true,
      "name": "Day 3 - Function calling with the Gemini API",
      "provenance": [],
      "include_colab_link": true
    },
    "kaggle": {
      "accelerator": "none",
      "dataSources": [],
      "dockerImageVersionId": 30786,
      "isInternetEnabled": true,
      "language": "python",
      "sourceType": "notebook",
      "isGpuEnabled": false
    }
  },
  "nbformat_minor": 0,
  "nbformat": 4,
  "cells": [
    {
      "cell_type": "markdown",
      "metadata": {
        "id": "view-in-github",
        "colab_type": "text"
      },
      "source": [
        "<a href=\"https://colab.research.google.com/github/clizarraga-UAD7/Notebooks/blob/main/Day_3_Function_calling_with_the_Gemini_API.ipynb\" target=\"_parent\"><img src=\"https://colab.research.google.com/assets/colab-badge.svg\" alt=\"Open In Colab\"/></a>"
      ]
    },
    {
      "cell_type": "markdown",
      "source": [
        "##### Copyright 2024 Google LLC."
      ],
      "metadata": {
        "id": "b6e13eef3f5d"
      }
    },
    {
      "cell_type": "code",
      "source": [
        "# @title Licensed under the Apache License, Version 2.0 (the \"License\");\n",
        "# you may not use this file except in compliance with the License.\n",
        "# You may obtain a copy of the License at\n",
        "#\n",
        "# https://www.apache.org/licenses/LICENSE-2.0\n",
        "#\n",
        "# Unless required by applicable law or agreed to in writing, software\n",
        "# distributed under the License is distributed on an \"AS IS\" BASIS,\n",
        "# WITHOUT WARRANTIES OR CONDITIONS OF ANY KIND, either express or implied.\n",
        "# See the License for the specific language governing permissions and\n",
        "# limitations under the License."
      ],
      "metadata": {
        "cellView": "form",
        "id": "d6597b11df14",
        "jupyter": {
          "source_hidden": true
        }
      },
      "outputs": [],
      "execution_count": null
    },
    {
      "cell_type": "markdown",
      "source": [
        "# Day 3 - Function calling with the Gemini API\n",
        "\n",
        "Welcome back to the Kaggle 5-day Generative AI course!\n",
        "\n",
        "In this notebook, you will use the Gemini API's automatic function calling to build a chat interface over a local database. This example is a toy and is missing a number of safety and security constraints you would use in a real-world example.\n",
        "\n",
        "## For help\n",
        "\n",
        "**Common issues are covered in the [FAQ and troubleshooting guide](https://www.kaggle.com/code/markishere/day-0-troubleshooting-and-faqs).**"
      ],
      "metadata": {
        "id": "4a7d3bb68371"
      }
    },
    {
      "cell_type": "markdown",
      "source": [
        "## Setup\n",
        "\n",
        "Start by installing and importing the Python SDK."
      ],
      "metadata": {
        "id": "ea197d1d464f"
      }
    },
    {
      "cell_type": "code",
      "source": [
        "%pip install -q -U 'google-generativeai>=0.8.3'"
      ],
      "metadata": {
        "id": "a24f42e469df"
      },
      "outputs": [],
      "execution_count": null
    },
    {
      "cell_type": "code",
      "source": [
        "import google.generativeai as genai"
      ],
      "metadata": {
        "id": "02bb0f551e25",
        "trusted": true,
        "execution": {
          "iopub.status.busy": "2024-11-12T07:56:49.761966Z",
          "iopub.execute_input": "2024-11-12T07:56:49.762436Z",
          "iopub.status.idle": "2024-11-12T07:56:51.236676Z",
          "shell.execute_reply.started": "2024-11-12T07:56:49.76238Z",
          "shell.execute_reply": "2024-11-12T07:56:51.235721Z"
        }
      },
      "outputs": [],
      "execution_count": null
    },
    {
      "cell_type": "markdown",
      "source": [
        "### Set up your API key\n",
        "\n",
        "To run the following cell, your API key must be stored it in a [Kaggle secret](https://www.kaggle.com/discussions/product-feedback/114053) named `GOOGLE_API_KEY`.\n",
        "\n",
        "If you don't already have an API key, you can grab one from [AI Studio](https://aistudio.google.com/app/apikey). You can find [detailed instructions in the docs](https://ai.google.dev/gemini-api/docs/api-key).\n",
        "\n",
        "To make the key available through Kaggle secrets, choose `Secrets` from the `Add-ons` menu and follow the instructions to add your key or enable it for this notebook."
      ],
      "metadata": {
        "id": "90e83cddff61"
      }
    },
    {
      "cell_type": "code",
      "source": [
        "from kaggle_secrets import UserSecretsClient\n",
        "\n",
        "GOOGLE_API_KEY = UserSecretsClient().get_secret(\"GOOGLE_API_KEY\")\n",
        "genai.configure(api_key=GOOGLE_API_KEY)"
      ],
      "metadata": {
        "id": "5cc8325f051d",
        "trusted": true,
        "execution": {
          "iopub.status.busy": "2024-11-12T07:56:55.433996Z",
          "iopub.execute_input": "2024-11-12T07:56:55.436017Z",
          "iopub.status.idle": "2024-11-12T07:56:55.638723Z",
          "shell.execute_reply.started": "2024-11-12T07:56:55.435965Z",
          "shell.execute_reply": "2024-11-12T07:56:55.637562Z"
        }
      },
      "outputs": [],
      "execution_count": null
    },
    {
      "cell_type": "markdown",
      "source": [
        "If you received an error response along the lines of `No user secrets exist for kernel id ...`, then you need to add your API key via `Add-ons`, `Secrets` **and** enable it.\n",
        "\n",
        "![Screenshot of the checkbox to enable GOOGLE_API_KEY secret](https://storage.googleapis.com/kaggle-media/Images/5gdai_sc_3.png)"
      ],
      "metadata": {
        "id": "857b6f96eb38"
      }
    },
    {
      "cell_type": "markdown",
      "source": [
        "## Create a local database\n",
        "\n",
        "For this minimal example, you'll create a local SQLite database and add some synthetic data so you have something to query.\n",
        "\n",
        "Load the `sql` IPython extension so you can interact with the database using magic commands (the `%` instructions) to create a new, empty SQLite database."
      ],
      "metadata": {
        "id": "ed8fc6062c62"
      }
    },
    {
      "cell_type": "code",
      "source": [
        "%load_ext sql\n",
        "%sql sqlite:///sample.db"
      ],
      "metadata": {
        "id": "c98a627ef07b",
        "trusted": true,
        "execution": {
          "iopub.status.busy": "2024-11-12T07:56:59.521445Z",
          "iopub.execute_input": "2024-11-12T07:56:59.522374Z",
          "iopub.status.idle": "2024-11-12T07:57:00.933903Z",
          "shell.execute_reply.started": "2024-11-12T07:56:59.522321Z",
          "shell.execute_reply": "2024-11-12T07:57:00.932599Z"
        }
      },
      "outputs": [],
      "execution_count": null
    },
    {
      "cell_type": "markdown",
      "source": [
        "Create the tables and insert some synthetic data. Feel free to tweak this structure and data."
      ],
      "metadata": {
        "id": "14e7bc18b8af"
      }
    },
    {
      "cell_type": "code",
      "source": [
        "%%sql\n",
        "-- Create the 'products' table\n",
        "CREATE TABLE IF NOT EXISTS products (\n",
        "  \tproduct_id INTEGER PRIMARY KEY AUTOINCREMENT,\n",
        "  \tproduct_name VARCHAR(255) NOT NULL,\n",
        "  \tprice DECIMAL(10, 2) NOT NULL\n",
        "  );\n",
        "\n",
        "-- Create the 'staff' table\n",
        "CREATE TABLE IF NOT EXISTS staff (\n",
        "  \tstaff_id INTEGER PRIMARY KEY AUTOINCREMENT,\n",
        "  \tfirst_name VARCHAR(255) NOT NULL,\n",
        "  \tlast_name VARCHAR(255) NOT NULL\n",
        "  );\n",
        "\n",
        "-- Create the 'orders' table\n",
        "CREATE TABLE IF NOT EXISTS orders (\n",
        "  \torder_id INTEGER PRIMARY KEY AUTOINCREMENT,\n",
        "  \tcustomer_name VARCHAR(255) NOT NULL,\n",
        "  \tstaff_id INTEGER NOT NULL,\n",
        "  \tproduct_id INTEGER NOT NULL,\n",
        "  \tFOREIGN KEY (staff_id) REFERENCES staff (staff_id),\n",
        "  \tFOREIGN KEY (product_id) REFERENCES products (product_id)\n",
        "  );\n",
        "\n",
        "-- Insert data into the 'products' table\n",
        "INSERT INTO products (product_name, price) VALUES\n",
        "  \t('Laptop', 799.99),\n",
        "  \t('Keyboard', 129.99),\n",
        "  \t('Mouse', 29.99);\n",
        "\n",
        "-- Insert data into the 'staff' table\n",
        "INSERT INTO staff (first_name, last_name) VALUES\n",
        "  \t('Alice', 'Smith'),\n",
        "  \t('Bob', 'Johnson'),\n",
        "  \t('Charlie', 'Williams');\n",
        "\n",
        "-- Insert data into the 'orders' table\n",
        "INSERT INTO orders (customer_name, staff_id, product_id) VALUES\n",
        "  \t('David Lee', 1, 1),\n",
        "  \t('Emily Chen', 2, 2),\n",
        "  \t('Frank Brown', 1, 3);"
      ],
      "metadata": {
        "id": "4e186de46cf1",
        "trusted": true,
        "execution": {
          "iopub.status.busy": "2024-11-12T07:57:10.808947Z",
          "iopub.execute_input": "2024-11-12T07:57:10.809539Z",
          "iopub.status.idle": "2024-11-12T07:57:10.901644Z",
          "shell.execute_reply.started": "2024-11-12T07:57:10.809498Z",
          "shell.execute_reply": "2024-11-12T07:57:10.900397Z"
        }
      },
      "outputs": [],
      "execution_count": null
    },
    {
      "cell_type": "markdown",
      "source": [
        "## Define database functions\n",
        "\n",
        "Function calling with Gemini API's Python SDK can be implemented by defining [an OpenAPI schema](https://ai.google.dev/api/caching#Schema) that is passed to the model. Alternatively you can define Python functions and let the SDK inspect them to automatically define the schema. In this latter case, it's important that the functions are type annotated and have accurate docstrings that describe what the functions do - the model has no insight into the function body, so the docs function as the interface.\n",
        "\n",
        "By providing three key pieces of functionality - listing tables, describing a table, and executing a query - the LLM (or even another user) will have the basic tools needed to understand and interrogate the database.\n",
        "\n",
        "Start with a database connection that will be used across all of the functions."
      ],
      "metadata": {
        "id": "83901899a79b"
      }
    },
    {
      "cell_type": "code",
      "source": [
        "import sqlite3\n",
        "\n",
        "db_file = \"sample.db\"\n",
        "db_conn = sqlite3.connect(db_file)"
      ],
      "metadata": {
        "id": "437168bc6b6e",
        "trusted": true,
        "execution": {
          "iopub.status.busy": "2024-11-12T07:59:40.101668Z",
          "iopub.execute_input": "2024-11-12T07:59:40.102774Z",
          "iopub.status.idle": "2024-11-12T07:59:40.10799Z",
          "shell.execute_reply.started": "2024-11-12T07:59:40.102721Z",
          "shell.execute_reply": "2024-11-12T07:59:40.106857Z"
        }
      },
      "outputs": [],
      "execution_count": null
    },
    {
      "cell_type": "markdown",
      "source": [
        "The first function will list all tables available in the database. Define it, and test it out to ensure it works."
      ],
      "metadata": {
        "id": "b68b1a2c37d9"
      }
    },
    {
      "cell_type": "code",
      "source": [
        "def list_tables() -> list[str]:\n",
        "    \"\"\"Retrieve the names of all tables in the database.\"\"\"\n",
        "    # Include print logging statements so you can see when functions are being called.\n",
        "    print(' - DB CALL: list_tables')\n",
        "\n",
        "    cursor = db_conn.cursor()\n",
        "\n",
        "    # Fetch the table names.\n",
        "    cursor.execute(\"SELECT name FROM sqlite_master WHERE type='table';\")\n",
        "\n",
        "    tables = cursor.fetchall()\n",
        "    return [t[0] for t in tables]\n",
        "\n",
        "\n",
        "list_tables()"
      ],
      "metadata": {
        "id": "bdb0e4d2bb4b",
        "trusted": true,
        "execution": {
          "iopub.status.busy": "2024-11-12T08:00:11.032222Z",
          "iopub.execute_input": "2024-11-12T08:00:11.032699Z",
          "iopub.status.idle": "2024-11-12T08:00:11.044204Z",
          "shell.execute_reply.started": "2024-11-12T08:00:11.032653Z",
          "shell.execute_reply": "2024-11-12T08:00:11.043058Z"
        }
      },
      "outputs": [],
      "execution_count": null
    },
    {
      "cell_type": "markdown",
      "source": [
        "Once the available tables is known, the next step a database user will need is to understand what columns are available in a given table. Define that too, and test that it works as expected."
      ],
      "metadata": {
        "id": "b6c010b1b6c2"
      }
    },
    {
      "cell_type": "code",
      "source": [
        "def describe_table(table_name: str) -> list[tuple[str, str]]:\n",
        "    \"\"\"Look up the table schema.\n",
        "\n",
        "    Returns:\n",
        "      List of columns, where each entry is a tuple of (column, type).\n",
        "    \"\"\"\n",
        "    print(' - DB CALL: describe_table')\n",
        "\n",
        "    cursor = db_conn.cursor()\n",
        "\n",
        "    cursor.execute(f\"PRAGMA table_info({table_name});\")\n",
        "\n",
        "    schema = cursor.fetchall()\n",
        "    # [column index, column name, column type, ...]\n",
        "    return [(col[1], col[2]) for col in schema]\n",
        "\n",
        "\n",
        "describe_table(\"products\")"
      ],
      "metadata": {
        "id": "ecdb109298c4",
        "trusted": true,
        "execution": {
          "iopub.status.busy": "2024-11-12T08:00:12.268107Z",
          "iopub.execute_input": "2024-11-12T08:00:12.26852Z",
          "iopub.status.idle": "2024-11-12T08:00:12.28123Z",
          "shell.execute_reply.started": "2024-11-12T08:00:12.268482Z",
          "shell.execute_reply": "2024-11-12T08:00:12.279697Z"
        }
      },
      "outputs": [],
      "execution_count": null
    },
    {
      "cell_type": "markdown",
      "source": [
        "Now that the system knows what tables and columns are present, it has enough information to be able to generate and run a `SELECT` query. Now provide that functionality, and test that it works."
      ],
      "metadata": {
        "id": "f6053a2ca272"
      }
    },
    {
      "cell_type": "code",
      "source": [
        "def execute_query(sql: str) -> list[list[str]]:\n",
        "    \"\"\"Execute a SELECT statement, returning the results.\"\"\"\n",
        "    print(' - DB CALL: execute_query')\n",
        "\n",
        "    cursor = db_conn.cursor()\n",
        "\n",
        "    cursor.execute(sql)\n",
        "    return cursor.fetchall()\n",
        "\n",
        "\n",
        "execute_query(\"select * from products\")"
      ],
      "metadata": {
        "id": "9e405db8b3f6",
        "trusted": true,
        "execution": {
          "iopub.status.busy": "2024-11-12T08:00:16.736049Z",
          "iopub.execute_input": "2024-11-12T08:00:16.736488Z",
          "iopub.status.idle": "2024-11-12T08:00:16.74735Z",
          "shell.execute_reply.started": "2024-11-12T08:00:16.736444Z",
          "shell.execute_reply": "2024-11-12T08:00:16.746027Z"
        }
      },
      "outputs": [],
      "execution_count": null
    },
    {
      "cell_type": "markdown",
      "source": [
        "## Implement function calls\n",
        "\n",
        "Now you can put it all together in a call to the Gemini API.\n",
        "\n",
        "Function calling works by adding specific messages to a chat session. When function schemas are defined and made available to the model and a conversation is started, instead of returning a text response, the model may return a `function_call` instead. When this happens, the client must respond with a `function_response`, indicating the result of the call, and the conversation can continue on as normal.\n",
        "\n",
        "This function calling interaction normally happens manually, allowing you, the client, to validate and initiate the call. However the Python SDK also supports **automatic function calling**, where the supplied functions will be automatically invoked. This is a powerful feature and should only be exposed when it is safe to do so, such as when the functions have no [side-effects](https://en.wikipedia.org/wiki/Side_effect_(computer_science)).\n",
        "\n",
        "Here's the state diagram representing the conversation flow with function calling. With automatic function calling, the bottom row is executed automatically by the Python SDK. In manual function calling, you write the code to run each step individually.\n",
        "\n",
        "![function calling state diagram](https://codelabs.developers.google.com/static/codelabs/gemini-function-calling/img/gemini-function-calling-overview_1440.png)"
      ],
      "metadata": {
        "id": "ac464dfb35a0"
      }
    },
    {
      "cell_type": "code",
      "source": [
        "# These are the Python functions defined above.\n",
        "db_tools = [list_tables, describe_table, execute_query]\n",
        "\n",
        "instruction = \"\"\"You are a helpful chatbot that can interact with an SQL database for a computer\n",
        "store. You will take the users questions and turn them into SQL queries using the tools\n",
        "available. Once you have the information you need, you will answer the user's question using\n",
        "the data returned. Use list_tables to see what tables are present, describe_table to understand\n",
        "the schema, and execute_query to issue an SQL SELECT query.\"\"\"\n",
        "\n",
        "model = genai.GenerativeModel(\n",
        "    \"models/gemini-1.5-flash-latest\", tools=db_tools, system_instruction=instruction\n",
        ")\n",
        "\n",
        "# Define a retry policy. The model might make multiple consecutive calls automatically\n",
        "# for a complex query, this ensures the client retries if it hits quota limits.\n",
        "from google.api_core import retry\n",
        "\n",
        "retry_policy = {\"retry\": retry.Retry(predicate=retry.if_transient_error)}\n",
        "\n",
        "# Start a chat with automatic function calling enabled.\n",
        "chat = model.start_chat(enable_automatic_function_calling=True)"
      ],
      "metadata": {
        "id": "f4839540066d",
        "trusted": true,
        "execution": {
          "iopub.status.busy": "2024-11-12T08:01:09.998002Z",
          "iopub.execute_input": "2024-11-12T08:01:09.998458Z",
          "iopub.status.idle": "2024-11-12T08:01:10.223145Z",
          "shell.execute_reply.started": "2024-11-12T08:01:09.998414Z",
          "shell.execute_reply": "2024-11-12T08:01:10.221482Z"
        }
      },
      "outputs": [],
      "execution_count": null
    },
    {
      "cell_type": "markdown",
      "source": [
        "Now you can engage in a chat conversation where you can ask about the contents of the database."
      ],
      "metadata": {
        "id": "5f120977f1ee"
      }
    },
    {
      "cell_type": "code",
      "source": [
        "resp = chat.send_message(\"What is the cheapest product?\", request_options=retry_policy)\n",
        "print(resp.text)"
      ],
      "metadata": {
        "id": "111cfb79338b",
        "trusted": true,
        "execution": {
          "iopub.status.busy": "2024-11-12T08:01:24.945254Z",
          "iopub.execute_input": "2024-11-12T08:01:24.94576Z",
          "iopub.status.idle": "2024-11-12T08:01:27.741893Z",
          "shell.execute_reply.started": "2024-11-12T08:01:24.945711Z",
          "shell.execute_reply": "2024-11-12T08:01:27.740666Z"
        }
      },
      "outputs": [],
      "execution_count": null
    },
    {
      "cell_type": "markdown",
      "source": [
        "If you re-use the same [`ChatSession`](https://github.com/google-gemini/generative-ai-python/blob/main/docs/api/google/generativeai/ChatSession.md) object, the conversation will continue statefully. If you wish to start fresh, you can call [`start_chat`](https://github.com/google-gemini/generative-ai-python/blob/main/docs/api/google/generativeai/GenerativeModel.md#start_chat) again, or call [`rewind`](https://github.com/google-gemini/generative-ai-python/blob/main/docs/api/google/generativeai/ChatSession.md#rewind) on the chat object to go back a turn.\n",
        "\n",
        "Continue the chat here by asking a follow-up question. Note that the database information is preserved, and the context of the specific product is inferred."
      ],
      "metadata": {
        "id": "43595d4ef920"
      }
    },
    {
      "cell_type": "code",
      "source": [
        "resp = chat.send_message(\"and how much is it?\", request_options=retry_policy)\n",
        "print(resp.text)"
      ],
      "metadata": {
        "id": "647cbcc43993",
        "trusted": true,
        "execution": {
          "iopub.status.busy": "2024-11-12T08:01:30.771751Z",
          "iopub.execute_input": "2024-11-12T08:01:30.773085Z",
          "iopub.status.idle": "2024-11-12T08:01:31.908747Z",
          "shell.execute_reply.started": "2024-11-12T08:01:30.773032Z",
          "shell.execute_reply": "2024-11-12T08:01:31.907434Z"
        }
      },
      "outputs": [],
      "execution_count": null
    },
    {
      "cell_type": "markdown",
      "source": [
        "Explore the chat session and ask your own questions. If you want to try asking more complex questions, try using the `gemini-1.5-pro` model. It has a lower rate limit, so calls might take a bit longer on the free tier, but you'll notice an improvement in expressivity."
      ],
      "metadata": {
        "id": "d67f635191c8"
      }
    },
    {
      "cell_type": "code",
      "source": [
        "model = genai.GenerativeModel(\n",
        "    \"models/gemini-1.5-pro-latest\", tools=db_tools, system_instruction=instruction\n",
        ")\n",
        "\n",
        "chat = model.start_chat(enable_automatic_function_calling=True)\n",
        "response = chat.send_message('Which salesperson sold the cheapest product?', request_options=retry_policy)\n",
        "print(response.text)"
      ],
      "metadata": {
        "trusted": true,
        "execution": {
          "iopub.status.busy": "2024-11-12T08:01:49.209315Z",
          "iopub.execute_input": "2024-11-12T08:01:49.209798Z",
          "iopub.status.idle": "2024-11-12T08:02:50.815032Z",
          "shell.execute_reply.started": "2024-11-12T08:01:49.209751Z",
          "shell.execute_reply": "2024-11-12T08:02:50.813855Z"
        },
        "id": "wfy_MeVUskR9"
      },
      "outputs": [],
      "execution_count": null
    },
    {
      "cell_type": "markdown",
      "source": [
        "### Inspecting the conversation\n",
        "\n",
        "To see the calls that the model makes, and what the client returns in response, you can inspect `chat.history`. This helper function will print out each turn along with the relevant fields passed or returned."
      ],
      "metadata": {
        "id": "1f5bb6d9bd6a"
      }
    },
    {
      "cell_type": "code",
      "source": [
        "import textwrap\n",
        "\n",
        "\n",
        "def print_chat_turns(chat):\n",
        "    \"\"\"Prints out each turn in the chat history, including function calls and responses.\"\"\"\n",
        "    for event in chat.history:\n",
        "        print(f\"{event.role.capitalize()}:\")\n",
        "\n",
        "        for part in event.parts:\n",
        "            if txt := part.text:\n",
        "                print(f'  \"{txt}\"')\n",
        "            elif fn := part.function_call:\n",
        "                args = \", \".join(f\"{key}={val}\" for key, val in fn.args.items())\n",
        "                print(f\"  Function call: {fn.name}({args})\")\n",
        "            elif resp := part.function_response:\n",
        "                print(\"  Function response:\")\n",
        "                print(textwrap.indent(str(resp), \"    \"))\n",
        "\n",
        "        print()\n",
        "\n",
        "\n",
        "print_chat_turns(chat)"
      ],
      "metadata": {
        "id": "639963cc64e2",
        "trusted": true,
        "execution": {
          "iopub.status.busy": "2024-11-12T08:02:57.963324Z",
          "iopub.execute_input": "2024-11-12T08:02:57.963814Z",
          "iopub.status.idle": "2024-11-12T08:02:57.979359Z",
          "shell.execute_reply.started": "2024-11-12T08:02:57.963765Z",
          "shell.execute_reply": "2024-11-12T08:02:57.977253Z"
        }
      },
      "outputs": [],
      "execution_count": null
    },
    {
      "cell_type": "markdown",
      "source": [
        "In this output you can see each of the conversational turns that were made. Note that the model doesn't remember anything outside of a `ChatSession` object, so you can make changes to the database structure or data and the model will respond without needing any code changes - try this out!"
      ],
      "metadata": {
        "id": "8a17aeb2a3ef"
      }
    },
    {
      "cell_type": "markdown",
      "source": [
        "## Further reading\n",
        "\n",
        "To learn more about what the Gemini API can do with function calling, check out the [Function calling cookbook](https://github.com/google-gemini/cookbook/blob/main/quickstarts/Function_calling.ipynb) (see `Manual function calling` to understand how function calling works manually) as well as [Function calling config](https://github.com/google-gemini/cookbook/blob/main/quickstarts/Function_calling_config.ipynb), which gives you fine-grained control over how function calling is triggered."
      ],
      "metadata": {
        "id": "jXhqXb82skR9"
      }
    }
  ]
}